{
 "cells": [
  {
   "cell_type": "code",
   "execution_count": 45,
   "metadata": {},
   "outputs": [
    {
     "name": "stdout",
     "output_type": "stream",
     "text": [
      "+-----------+-----+\n",
      "|question_id|count|\n",
      "+-----------+-----+\n",
      "|   77561774|    1|\n",
      "|   75323747|    1|\n",
      "|   71496561|    1|\n",
      "|   73212628|    1|\n",
      "|   72644013|    1|\n",
      "|   75217063|    1|\n",
      "|   76077950|    1|\n",
      "|   69575496|    1|\n",
      "|   75525312|    1|\n",
      "|   77881942|    1|\n",
      "|   75984983|    1|\n",
      "|   77522753|    1|\n",
      "|   71759316|    1|\n",
      "|   72642575|    1|\n",
      "|   70105756|    1|\n",
      "|   74895640|    1|\n",
      "|   76207341|    1|\n",
      "|   71486019|    1|\n",
      "|   72359181|    1|\n",
      "|   77440877|    1|\n",
      "+-----------+-----+\n",
      "only showing top 20 rows\n",
      "\n"
     ]
    },
    {
     "name": "stderr",
     "output_type": "stream",
     "text": [
      "24/09/12 14:13:07 WARN ParseMode: overwrite is not a valid parse mode. Using PERMISSIVE.\n"
     ]
    }
   ],
   "source": [
    "from pyspark.sql import SparkSession\n",
    "import pyspark.sql.functions as pyf\n",
    "import json\n",
    "\n",
    "spark = SparkSession.builder.getOrCreate()\n",
    "\n",
    "questions_df = spark.read.json(\"../../data/questions.json\" )\n",
    "exploded_questions_df = questions_df\\\n",
    "    .selectExpr(\"explode(items) as item\")\\\n",
    "    .select(\"item.*\")\n",
    "# exploded_questions_df.show()\n",
    "\n",
    "\n",
    "answers_df = spark.read.json(\"../../data/answers.json\" )\n",
    "exploded_answers_df = answers_df \\\n",
    "    .selectExpr(\"explode(items) as item\")\\\n",
    "    .select(\"item.*\")\n",
    "\n",
    "exploded_answers_df = exploded_answers_df.select([c for c in exploded_answers_df.columns if c not in {\"owner\", \"tag\"}])\n",
    "\n",
    "minimal_questions = exploded_questions_df \\\n",
    "    .select(pyf.col(\"body\").alias(\"question\"), \"question_id\")\n",
    "\n",
    "minimal_answers = exploded_answers_df \\\n",
    "    .filter(pyf.col(\"is_accepted\") == True) \\\n",
    "    .select(pyf.col(\"body\").alias(\"answer\"), \"question_id\")\n",
    "\n",
    "joined_df = minimal_questions \\\n",
    "    .join(minimal_answers, on=\"question_id\", how=\"inner\")\n",
    "\n",
    "joined_list = joined_df.collect()\n",
    "# for x in joined_list:\n",
    "#     # Serializing json\n",
    "#     json_object = json.dumps(x, indent=4)\n",
    "    \n",
    "#     # Writing to sample.json\n",
    "#     with open(\"sample.json\", \"w\") as outfile:\n",
    "#         outfile.write(json_object)\n",
    "# joined_df.write.options(mode=\"overwrite\").json(\"output.json\")"
   ]
  }
 ],
 "metadata": {
  "kernelspec": {
   "display_name": "Python 3",
   "language": "python",
   "name": "python3"
  },
  "language_info": {
   "codemirror_mode": {
    "name": "ipython",
    "version": 3
   },
   "file_extension": ".py",
   "mimetype": "text/x-python",
   "name": "python",
   "nbconvert_exporter": "python",
   "pygments_lexer": "ipython3",
   "version": "3.11.4"
  }
 },
 "nbformat": 4,
 "nbformat_minor": 2
}
